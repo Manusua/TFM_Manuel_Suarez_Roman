{
 "cells": [
  {
   "cell_type": "markdown",
   "metadata": {},
   "source": [
    "# Modificación de los archivos de grafo para que los lea d-mercator"
   ]
  },
  {
   "cell_type": "markdown",
   "metadata": {},
   "source": [
    "d-mercator necesita recibir la información del grafo con la forma de un archivo con dos columnas. La primera columna se corresponde con el nodo de origen de cada una de las aristas de un grafo y la segunda columan con el nodo de destino de dichas aristas.\n",
    "\n",
    "Además, el grafo debe ser conexo (en caso contrario, d-mercator creará un nuevo archivo \".edge\", con la componente gigante del grafo)."
   ]
  },
  {
   "cell_type": "code",
   "execution_count": 1,
   "metadata": {},
   "outputs": [],
   "source": [
    "import networkx as nx"
   ]
  },
  {
   "cell_type": "markdown",
   "metadata": {},
   "source": [
    "## Creación de los archivos de grafo"
   ]
  },
  {
   "cell_type": "code",
   "execution_count": 14,
   "metadata": {},
   "outputs": [],
   "source": [
    "# No al tarifazo\n",
    "G = nx.read_gexf(\"../graphs/nodes_hashtag/nat/429624.gexf\")\n",
    "\n",
    "# Componente gigante del grafo\n",
    "Gcc = sorted(nx.connected_components(G), key=len, reverse=True)\n",
    "G = G.subgraph(Gcc[0])\n",
    "\n",
    "with open(\"graphs/nat/429624/429624.edge\", \"w\") as f:\n",
    "    for edge in G.edges():\n",
    "        f.write(edge[0] + ' ' + edge[1] + '\\n')\n",
    "\n",
    "# 9n\n",
    "G = nx.read_gexf(\"../graphs/nodes_hashtag/9n/437037.gexf\")\n",
    "\n",
    "# Componente gigante del grafo\n",
    "Gcc = sorted(nx.connected_components(G), key=len, reverse=True)\n",
    "G = G.subgraph(Gcc[0])\n",
    "\n",
    "with open(\"graphs/9n/437037/437037.edge\", \"w\") as f:\n",
    "    for edge in G.edges():\n",
    "        f.write(edge[0] + ' ' + edge[1] + '\\n')"
   ]
  },
  {
   "cell_type": "markdown",
   "metadata": {},
   "source": [
    "A continuación, hay que ejecutar el archivo dmercator_script.py desde terminal introduciendo como parámetro el archivo que debe usar: ```python3 dmercator.py```"
   ]
  },
  {
   "cell_type": "markdown",
   "metadata": {},
   "source": [
    "## Creación de los archivos de grafo filtrando aristas"
   ]
  },
  {
   "cell_type": "code",
   "execution_count": 9,
   "metadata": {},
   "outputs": [],
   "source": [
    "# Crea, a partir de un umbral de filtro, thresh_filt, y de un grafo, un grafo nuevo eliminando las aristas del grafo original con peso inferior al umbral\n",
    "def create_filtered_graph(G, thresh_filt):\n",
    "    H = nx.Graph()\n",
    "    # Añade nodos del grafo original al nuevo grafo\n",
    "    H.add_nodes_from(G.nodes())\n",
    "\n",
    "    # Añade aristas que cumplen con el umbral de peso\n",
    "    for u, v, data in G.edges(data=True):\n",
    "        if data['weight'] >= thresh_filt:\n",
    "            H.add_edge(u, v, **data)\n",
    "    return H"
   ]
  },
  {
   "cell_type": "code",
   "execution_count": 13,
   "metadata": {},
   "outputs": [],
   "source": [
    "umbral_nat = 5\n",
    "umbral_9n = 5\n",
    "# No al tarifazo\n",
    "G = nx.read_gexf(\"../graphs/nodes_hashtag/nat/429624.gexf\")\n",
    "G = create_filtered_graph(G, 5)\n",
    "\n",
    "# Componente gigante del grafo\n",
    "Gcc = sorted(nx.connected_components(G), key=len, reverse=True)\n",
    "G = G.subgraph(Gcc[0])\n",
    "\n",
    "with open(\"graphs/nat/429624/\" + str(umbral_nat) + \"/429624.edge\", \"w\") as f:\n",
    "    for edge in G.edges():\n",
    "        f.write(edge[0] + ' ' + edge[1] + '\\n')\n",
    "\n",
    "# 9n\n",
    "G = nx.read_gexf(\"../graphs/nodes_hashtag/9n/437037.gexf\")\n",
    "G = create_filtered_graph(G, umbral_9n)\n",
    "\n",
    "# Componente gigante del grafo\n",
    "Gcc = sorted(nx.connected_components(G), key=len, reverse=True)\n",
    "G = G.subgraph(Gcc[0])\n",
    "\n",
    "with open(\"graphs/9n/437037/\" + str(umbral_9n) + \"/437037.edge\", \"w\") as f:\n",
    "    for edge in G.edges():\n",
    "        f.write(edge[0] + ' ' + edge[1] + '\\n')"
   ]
  }
 ],
 "metadata": {
  "kernelspec": {
   "display_name": "venv",
   "language": "python",
   "name": "python3"
  },
  "language_info": {
   "codemirror_mode": {
    "name": "ipython",
    "version": 3
   },
   "file_extension": ".py",
   "mimetype": "text/x-python",
   "name": "python",
   "nbconvert_exporter": "python",
   "pygments_lexer": "ipython3",
   "version": "3.12.3"
  }
 },
 "nbformat": 4,
 "nbformat_minor": 2
}
